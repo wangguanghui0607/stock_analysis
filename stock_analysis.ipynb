{
 "cells": [
  {
   "cell_type": "code",
   "execution_count": null,
   "metadata": {},
   "outputs": [],
   "source": [
    "import futu as ft\n",
    "import pandas as pd\n",
    "import os"
   ]
  },
  {
   "cell_type": "code",
   "execution_count": null,
   "metadata": {},
   "outputs": [],
   "source": [
    "# 实例化行情上下文对象\n",
    "# 如下范例，创建api行情对象，调用get_market_snapshot获取港股腾讯00700的报价快照数据,最后关闭对象\n",
    "quote_ctx = ft.OpenQuoteContext(host=\"127.0.0.1\", port=11111)\n",
    "print(quote_ctx.get_market_snapshot('HK.00700'))\n",
    "quote_ctx.close()"
   ]
  },
  {
   "cell_type": "code",
   "execution_count": null,
   "metadata": {},
   "outputs": [],
   "source": [
    "#  Get list of all hong kong stock\n",
    "\"\"\"\n",
    "all_stock_hk_plate = 'HK.BK1910'\n",
    "quote_ctx = ft.OpenQuoteContext(host=\"127.0.0.1\", port=11111)\n",
    "stock_list_all_col = quote_ctx.get_plate_stock(all_stock_hk_plate)[1]\n",
    "\n",
    "# stock_type\n",
    "#  STOCK：  股票\n",
    "#  IDX： 指数\n",
    "#  ETF： 交易所交易基金(Exchange Traded Funds)\n",
    "#  WARRANT： 港股涡轮牛熊界内证\n",
    "#  BOND： 债券\n",
    "#  DRVT： 期权\n",
    "#  NONE： 未知\n",
    "stock_list_all_col = stock_list_all_col[stock_list_all_col['stock_type'] == 'STOCK']\n",
    "stock_list = stock_list_all_col[['code', 'lot_size', 'stock_name', 'stock_type', 'stock_id']]\n",
    "print(stock_list)\n",
    "quote_ctx.close()\n",
    "\"\"\""
   ]
  },
  {
   "cell_type": "code",
   "execution_count": null,
   "metadata": {},
   "outputs": [],
   "source": [
    "# stock_list.to_csv('stock_hk_list.csv')"
   ]
  },
  {
   "cell_type": "code",
   "execution_count": null,
   "metadata": {},
   "outputs": [],
   "source": [
    "import time\n",
    "# change rate\n",
    "def get_all_change_list(quote_ctx, codes, start='2019-10-04', end='2019-10-04', max_count=10, page_req_key=None, stock_num=100):\n",
    "    change_rates = []\n",
    "    \n",
    "    stock_cnt = 0\n",
    "    for code in codes:\n",
    "        if stock_cnt > stock_num:\n",
    "            break\n",
    "        print('{}/{}'.format(stock_cnt, stock_num))\n",
    "        history_kline = quote_ctx.request_history_kline(code, start=start, end=end, max_count=1000, page_req_key=None)\n",
    "        # Skip if  ret != RET_OK or data is empty\n",
    "        if history_kline[0] == -1 or history_kline[1].empty:\n",
    "            print(history_kline[1])\n",
    "            continue\n",
    "        history_kline = history_kline[1][['code', 'change_rate']].values.tolist()[0]\n",
    "        change_rates.append(history_kline)\n",
    "        stock_cnt += 1\n",
    "        time.sleep(3)\n",
    "    \n",
    "    change_rates = pd.DataFrame(change_rates, columns=['code', 'change_rate'])\n",
    "    return change_rates.sort_values(by=['change_rate'], ascending=False)\n",
    "\n",
    "stock_list = pd.read_csv('stock_hk_list.csv')\n",
    "\n",
    "quote_ctx = ft.OpenQuoteContext(host=\"127.0.0.1\", port=11111)\n",
    "change_rates_sorted = get_all_change_list(quote_ctx, stock_list['code'])\n",
    "print(change_rates_sorted)\n",
    "\n",
    "quote_ctx.close()"
   ]
  },
  {
   "cell_type": "code",
   "execution_count": null,
   "metadata": {},
   "outputs": [],
   "source": [
    "# Draw trend of change rate for one stock\n",
    "!python3 -mpip install matplotlib\n",
    "import matplotlib.pyplot as plt\n",
    "\n",
    "def draw_history_change_rate(quote_ctx, code, start='2019-09-04', end='2019-10-04', max_count=1000):\n",
    "    history_kline = quote_ctx.request_history_kline(code, start=start, end=end, max_count=max_count)\n",
    "    if history_kline[0] == -1 or history_kline[1].empty:\n",
    "        print('No data')\n",
    "        return\n",
    "    history_kline_data = history_kline[1][['change_rate', 'time_key']]\n",
    "    \n",
    "    history_kline_data.plot(x='time_key', y='change_rate')\n",
    "    \n",
    "    #df = history_kline_data.cumsum()\n",
    "    #plt.figure()\n",
    "    #df.plot()\n",
    "\n",
    "quote_ctx = ft.OpenQuoteContext(host=\"127.0.0.1\", port=11111)\n",
    "draw_history_change_rate(quote_ctx, 'HK.00022')\n",
    "quote_ctx.close()"
   ]
  },
  {
   "cell_type": "code",
   "execution_count": null,
   "metadata": {},
   "outputs": [],
   "source": [
    "# track stock price in real time\n",
    "\n",
    "columns_name = ['code', 'time', 'is_bank', 'opened_mins', 'cur_price', 'last_close', 'avg_price', 'volume', 'turnover']\n",
    "code_list = ['HK.00020', 'HK.00021', 'HK.00022']\n",
    "\n",
    "def track_stock(quote_ctx, code, max_rows=100, max_fail=10):\n",
    "    \n",
    "    history_data = pd.DataFrame([], columns=columns_name)\n",
    "    \n",
    "    fail_cnt = 0\n",
    "    while True:\n",
    "        rt_data = quote_ctx.get_rt_data(code)\n",
    "        if fail_cnt > max_fail:\n",
    "            print('No data can be accessable')\n",
    "            break\n",
    "        if rt_data[0] < 1 or rt_data[1].empty:\n",
    "            print('getting data failed')\n",
    "            fail_cnt += 1\n",
    "            continue\n",
    "        history_data = pd.concat([history_data, rt_data[1]])\n",
    "        \n",
    "        if history_data.shape[0] > max_rows:\n",
    "            history_data = pd.DataFrame([], columns=columns_name)\n",
    "\n",
    "quote_ctx = ft.OpenQuoteContext(host=\"127.0.0.1\", port=11111)\n",
    "for code in code_list:\n",
    "    print('{}'.format(code))\n",
    "    track_stock(quote_ctx, code)"
   ]
  },
  {
   "cell_type": "code",
   "execution_count": null,
   "metadata": {},
   "outputs": [],
   "source": [
    "# Train a predi"
   ]
  }
 ],
 "metadata": {
  "kernelspec": {
   "display_name": "Python 3",
   "language": "python",
   "name": "python3"
  },
  "language_info": {
   "codemirror_mode": {
    "name": "ipython",
    "version": 3
   },
   "file_extension": ".py",
   "mimetype": "text/x-python",
   "name": "python",
   "nbconvert_exporter": "python",
   "pygments_lexer": "ipython3",
   "version": "3.6.5"
  }
 },
 "nbformat": 4,
 "nbformat_minor": 2
}
